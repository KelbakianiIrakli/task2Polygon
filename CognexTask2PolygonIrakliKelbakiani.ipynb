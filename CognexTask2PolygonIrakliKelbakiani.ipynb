{
 "cells": [
  {
   "cell_type": "code",
   "execution_count": 1,
   "metadata": {},
   "outputs": [
    {
     "name": "stdout",
     "output_type": "stream",
     "text": [
      "0.9633654801131379\n",
      "0.7678639736920945\n",
      "0.9407436682882565\n",
      "0.7853981633974483\n",
      "0.7853981633974483\n",
      "0.5390120844526473\n",
      "0.7693696294505615\n",
      "0.2065894239158348\n",
      "0.6116636404868111\n"
     ]
    }
   ],
   "source": [
    "import math\n",
    "import os\n",
    "\n",
    "# I use Polsby-Popper test for roundness.\n",
    "# I calculate ratio of the area of a polygon to the area of a circle whose circumference\n",
    "# is same as the perimeter of the polygon.\n",
    "#Polsby-Popper test (roundness = polygon's area *4 *pi/ perimeter^2)\n",
    "# the result(Polsby-Popper score) will be between [0,1]\n",
    "# the smaller the Polsby-Popper score means the less roundness\n",
    "# the bigger the Polsby-Popper score means the better roundness respectively\n",
    "\n",
    "def roundness(area, perimeter):\n",
    "    roundness = 4*math.pi*area / perimeter**2\n",
    "    return roundness\n",
    "\n",
    "# Polygon area - Shoelace formula\n",
    "def shoelaceFormula (vertices):\n",
    "    n = len(vertices) # of corners\n",
    "    area = 0.0\n",
    "    for i in range(n):\n",
    "        j= 0 if i== n-1 else i+1\n",
    "        area += vertices[i][0] * vertices[j][1]\n",
    "        area -= vertices[j][0] * vertices[i][1]\n",
    "    return abs(area) / 2.0\n",
    "\n",
    "#perimeter of polygon\n",
    "def perimeterOfPolygon(vertices):\n",
    "    n = len(vertices)\n",
    "    perimeter = 0.0\n",
    "    for i in range(n):\n",
    "        j= 0 if i== n-1 else i+1\n",
    "        perimeter += math.sqrt((vertices[i][0]-vertices[j][0])**2 + (vertices[i][1]-vertices[j][1])**2) \n",
    "    return perimeter\n",
    "\n",
    "def main():\n",
    "    dir = os.getcwd()\n",
    "    try:\n",
    "        #assuming this file is one directory upper than polygons.in\n",
    "        with open(dir + '/Polygon Roundness/polygons.in') as f:\n",
    "            result = [list(float(item) for item in line.strip().split(\" \")) for line in f]\n",
    "            result = [list(zip(item[::2], item[1::2])) for item in result]\n",
    "        for polygonVertices in result:\n",
    "            area = shoelaceFormula(polygonVertices)\n",
    "            perimeter = perimeterOfPolygon(polygonVertices)\n",
    "            print(roundness(area,perimeter))           \n",
    "    except EnvironmentError:\n",
    "        print('IOError or OSError')\n",
    "\n",
    "if __name__ == \"__main__\":\n",
    "    main()"
   ]
  },
  {
   "cell_type": "code",
   "execution_count": null,
   "metadata": {
    "collapsed": true
   },
   "outputs": [],
   "source": []
  }
 ],
 "metadata": {
  "kernelspec": {
   "display_name": "Python 3",
   "language": "python",
   "name": "python3"
  },
  "language_info": {
   "codemirror_mode": {
    "name": "ipython",
    "version": 3
   },
   "file_extension": ".py",
   "mimetype": "text/x-python",
   "name": "python",
   "nbconvert_exporter": "python",
   "pygments_lexer": "ipython3",
   "version": "3.6.3"
  }
 },
 "nbformat": 4,
 "nbformat_minor": 2
}
